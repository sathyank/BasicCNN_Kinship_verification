{
 "cells": [
  {
   "cell_type": "markdown",
   "metadata": {},
   "source": [
    "# CNN-Basic"
   ]
  },
  {
   "cell_type": "markdown",
   "metadata": {},
   "source": [
    "## Importing all necessary packages"
   ]
  },
  {
   "cell_type": "code",
   "execution_count": 1,
   "metadata": {
    "collapsed": true
   },
   "outputs": [],
   "source": [
    "#! /usr/bin/env python3\n",
    "import torch\n",
    "import torch.nn as nn\n",
    "from torch.autograd import Variable\n",
    "from torch.utils.data import Dataset, DataLoader, sampler\n",
    "import torchvision.transforms as transforms\n",
    "import torch.nn.functional as F\n",
    "from torch.optim import lr_scheduler\n",
    "import numpy as np\n",
    "import pandas as pd\n",
    "from pandas.io.parsers import read_csv\n",
    "from sklearn.utils import shuffle\n",
    "from functools import wraps\n",
    "from collections import OrderedDict\n",
    "from sklearn.base import clone\n",
    "from skimage import io\n",
    "from skimage.color import rgb2gray\n",
    "import matplotlib.pyplot as plt\n",
    "import random\n",
    "import time\n",
    "import sys\n",
    "import scipy.io as sio\n",
    "import os\n",
    "from pathlib import Path\n",
    "import torchvision\n",
    "\n",
    "plt.ion()"
   ]
  },
  {
   "cell_type": "markdown",
   "metadata": {},
   "source": [
    "## Defining necessary data augmentation functions."
   ]
  },
  {
   "cell_type": "code",
   "execution_count": 2,
   "metadata": {
    "collapsed": false
   },
   "outputs": [],
   "source": [
    "rgb2gray = transforms.Compose([transforms.ToPILImage(),transforms.Grayscale(3),transforms.ToTensor()])\n",
    "hf = transforms.Compose([transforms.ToPILImage(),transforms.RandomHorizontalFlip(),transforms.ToTensor()])\n",
    "vf = transforms.Compose([transforms.ToPILImage(),transforms.RandomVerticalFlip(),transforms.ToTensor()])"
   ]
  },
  {
   "cell_type": "markdown",
   "metadata": {},
   "source": [
    "## Class for accessing the KinfaceW dataset"
   ]
  },
  {
   "cell_type": "code",
   "execution_count": 3,
   "metadata": {
    "collapsed": true
   },
   "outputs": [],
   "source": [
    "class KinShipDataSet(Dataset):\n",
    "    \n",
    "    image_path = os.path.join(str(Path.home()), '/home/sathyank/Documents/PROJECT/images/KinFaceW-II/images')\n",
    "    meta_data_path = os.path.join(str(Path.home()), '/home/sathyank/Documents/PROJECT/images/KinFaceW-II/meta_data/')\n",
    "    rel_lookup = {'fd':'father-dau', 'fs':'father-son', 'md':'mother-dau', 'ms':'mother-son', 'all':'all'}\n",
    "    \n",
    "    def __init__(self, relation, transform = None, test = False, fold = 0,aug = False):\n",
    "        self.meta_data =  sio.loadmat(os.path.join(KinShipDataSet.meta_data_path, relation + '_pairs.mat'))\n",
    "        self.relation = relation\n",
    "        self.transform = transform\n",
    "        self.test = test\n",
    "        self.fold = fold\n",
    "        self.aug = aug\n",
    "        self.trainlen = len([d for d in self.meta_data['pairs'][:, 0] if d != self.fold])\n",
    "        self.testlen = len([d for d in self.meta_data['pairs'][:, 0] if d == self.fold])\n",
    "        \n",
    "    def __len__(self):\n",
    "        \n",
    "        if not self.test:\n",
    "            return self.trainlen\n",
    "        else:\n",
    "            return self.testlen\n",
    "    \n",
    "    def __getitem__(self, i):\n",
    "        \n",
    "        #assert(i < len(self))\n",
    "        \n",
    "        if self.test:\n",
    "            i += self.trainlen\n",
    "            \n",
    "        folder = KinShipDataSet.rel_lookup[self.meta_data['pairs'][i, 2][0][:2]]\n",
    "        image_file1 = os.path.join(KinShipDataSet.image_path,  folder + '/' + self.meta_data['pairs'][i, 2][0])\n",
    "        image_file2 = os.path.join(KinShipDataSet.image_path, folder + '/' + self.meta_data['pairs'][i, 3][0])\n",
    "        #image1 = io.imread(image_file1).astype(np.float32)\n",
    "        #image2 = io.imread(image_file2).astype(np.float32)\n",
    "        image1 = io.imread(image_file1)\n",
    "        image2 = io.imread(image_file2)\n",
    "        gray1 = rgb2gray(image1)\n",
    "        gray2 = rgb2gray(image2)\n",
    "        #image1 = image1.transpose(2, 0, 1) #/ 255\n",
    "        #image2 = image2.transpose(2, 0, 1) #/ 255\n",
    "        if self.transform:\n",
    "            image1 = self.transform(image1)\n",
    "            #image1 = torch.from_numpy(image1.copy())\n",
    "            image2 = self.transform(image2)\n",
    "            #image2 = torch.from_numpy(image2.copy())\n",
    "            \n",
    "        else:\n",
    "            image1 = torch.from_numpy(image1)\n",
    "            image2 = torch.from_numpy(image2) \n",
    "        #print(image1.shape)\n",
    "        if self.test:\n",
    "            if self.aug:\n",
    "                vf1 = vf(image1)\n",
    "                vf2 = vf(image2)\n",
    "                hf1 = hf(image1)\n",
    "                hf2 = hf(image2)\n",
    "\n",
    "                pair_normal = torch.cat((image1, image2), dim = 0).view(-1,6,64,64)\n",
    "                pair_gray = torch.cat((gray1,gray2),dim=0).view(-1,6,64,64)\n",
    "                pair_hf = torch.cat((hf1,hf2),dim=0).view(-1,6,64,64)\n",
    "                pair_vf = torch.cat((vf1,vf2),dim=0).view(-1,6,64,64)\n",
    "                #pair = pair.view(-1,6,64,64)\n",
    "                #print(pair.shape)\n",
    "                pair = torch.cat((pair_normal,pair_gray,pair_hf,pair_vf),dim=0)\n",
    "                #print(pair.shape)\n",
    "                label = torch.LongTensor(np.full((4),int(self.meta_data['pairs'][i, 1]),dtype=int).tolist())\n",
    "                sample = {'pair':pair, 'label':label}\n",
    "            else:    \n",
    "                pair = torch.cat((image1, image2), dim = 0)\n",
    "                label = torch.LongTensor([int(self.meta_data['pairs'][i, 1])])\n",
    "                sample = {'pair':pair, 'label':label}\n",
    "        else:\n",
    "            if self.aug:\n",
    "                vf1 = vf(image1)\n",
    "                vf2 = vf(image2)\n",
    "                hf1 = hf(image1)\n",
    "                hf2 = hf(image2)\n",
    "\n",
    "                pair_normal = torch.cat((image1, image2), dim = 0).view(-1,6,64,64)\n",
    "                pair_gray = torch.cat((gray1,gray2),dim=0).view(-1,6,64,64)\n",
    "                pair_hf = torch.cat((hf1,hf2),dim=0).view(-1,6,64,64)\n",
    "                pair_vf = torch.cat((vf1,vf2),dim=0).view(-1,6,64,64)\n",
    "                #pair = pair.view(-1,6,64,64)\n",
    "                #print(pair.shape)\n",
    "                pair = torch.cat((pair_normal,pair_gray,pair_hf,pair_vf),dim=0)\n",
    "                #print(pair.shape)\n",
    "                label = torch.LongTensor(np.full((4),int(self.meta_data['pairs'][i, 1]),dtype=int).tolist()) #if not self.test else None   \n",
    "                sample = {'pair':pair, 'label':label}\n",
    "            else:\n",
    "                pair = torch.cat((image1, image2), dim = 0).view(-1,6,64,64)\n",
    "                label = torch.LongTensor([int(self.meta_data['pairs'][i, 1])])\n",
    "                sample = {'pair':pair, 'label':label}\n",
    "        return sample"
   ]
  },
  {
   "cell_type": "code",
   "execution_count": 4,
   "metadata": {
    "collapsed": true
   },
   "outputs": [],
   "source": [
    "data_transform = transforms.Compose([transforms.ToTensor()])\n",
    "#k = KinShipDataSet('fd', data_transform,fold=1)"
   ]
  },
  {
   "cell_type": "code",
   "execution_count": null,
   "metadata": {
    "collapsed": true
   },
   "outputs": [],
   "source": [
    "data = []\n",
    "for i in range(len(k)):\n",
    "    data.append(k[i]['pair'].numpy())\n",
    "means = []\n",
    "stdevs = []\n",
    "data = np.asarray(data)\n",
    "print(data.shape)\n",
    "for i in range(6):\n",
    "    pixels = data[:,i,:,:].ravel()\n",
    "    means.append(np.mean(pixels))\n",
    "    stdevs.append(np.std(pixels))\n",
    "print(means)\n",
    "print(stdevs)"
   ]
  },
  {
   "cell_type": "markdown",
   "metadata": {},
   "source": [
    "## For building training and validation set"
   ]
  },
  {
   "cell_type": "code",
   "execution_count": 5,
   "metadata": {
    "collapsed": true
   },
   "outputs": [],
   "source": [
    "def train_valid_split(length, test_size = 0.2, shuffle = False, random_seed = 0):\n",
    "    \"\"\" Return a list of splitted indices from a DataSet.\n",
    "    Indices can be used with DataLoader to build a train and validation set.\n",
    "    \n",
    "    Arguments:\n",
    "        A Dataset\n",
    "        A test_size, as a float between 0 and 1 (percentage split) or as an int (fixed number split)\n",
    "        Shuffling True or False\n",
    "        Random seed\n",
    "    \"\"\"\n",
    "    #length = len(dataset)\n",
    "    indices = list(range(0,length))\n",
    "    \n",
    "    if shuffle == True:\n",
    "        random.seed(random_seed)\n",
    "        random.shuffle(indices)\n",
    "    \n",
    "    if type(test_size) is float:\n",
    "        split = int(test_size * length)\n",
    "    elif type(test_size) is int:\n",
    "        split = test_size\n",
    "    else:\n",
    "        raise ValueError('%s should be an int or a float' % str)\n",
    "        \n",
    "    return indices[split:], indices[:split]"
   ]
  },
  {
   "cell_type": "markdown",
   "metadata": {},
   "source": [
    "## For loading the dataset into a dataloader"
   ]
  },
  {
   "cell_type": "code",
   "execution_count": 6,
   "metadata": {
    "collapsed": true
   },
   "outputs": [],
   "source": [
    "def load(nsamples, relation, data_transforms,aug,fold,test_split = 0.2, test = False, batch_size = 32):\n",
    "    if not test:\n",
    "        # Creating a validation split\n",
    "        train_idx, valid_idx = train_valid_split(nsamples, test_split, shuffle = True)\n",
    "        train_sampler = sampler.SubsetRandomSampler(train_idx)\n",
    "        valid_sampler = sampler.SubsetRandomSampler(valid_idx)\n",
    "        #assert(data_transforms['train'] != None)\n",
    "        #assert(data_transforms['val'] != None)\n",
    "        x_train = KinShipDataSet(relation, data_transforms['train'], test=test,fold=fold,aug=aug)         \n",
    "        x_valid = KinShipDataSet(relation, data_transforms['val'], test=test,fold=fold,aug=aug)\n",
    "        train_loader = DataLoader(x_train,\n",
    "                      batch_size=batch_size,\n",
    "                      sampler=train_sampler,\n",
    "                      num_workers=8)\n",
    "        valid_loader = DataLoader(x_valid,\n",
    "                      batch_size=batch_size,\n",
    "                      sampler=valid_sampler,\n",
    "                      num_workers=8)\n",
    "\n",
    "        dataloaders = {'train':train_loader, 'valid':valid_loader}\n",
    "        dataset_sizes = {'train':len(train_sampler), 'valid':len(valid_sampler)}  \n",
    "        print(dataset_sizes)\n",
    "        \n",
    "    else:\n",
    "        #assert(data_transforms['test'] != None)\n",
    "        x_test = KinShipDataSet(relation, data_transforms['test'], test=test,fold=fold,aug=aug)\n",
    "        test_loader = DataLoader(x_test, batch_size = batch_size)\n",
    "        dataloaders = {'test':test_loader}\n",
    "        dataset_sizes = {'test' : len(x_test)}\n",
    "    return dataloaders, dataset_sizes"
   ]
  },
  {
   "cell_type": "markdown",
   "metadata": {},
   "source": [
    "## Basic CNN model"
   ]
  },
  {
   "cell_type": "markdown",
   "metadata": {},
   "source": [
    "### Model without batch normalization layer."
   ]
  },
  {
   "cell_type": "code",
   "execution_count": 7,
   "metadata": {
    "collapsed": true
   },
   "outputs": [],
   "source": [
    "class ModelBasic_vanilla(nn.Module):\n",
    "    \n",
    "    def __init__(self):\n",
    "        \n",
    "        super().__init__()\n",
    "        self.conv1 = nn.Conv2d(6, 16, 5)\n",
    "        #self.bn1 = nn.BatchNorm2d(16)\n",
    "        self.act1_c = nn.ReLU()\n",
    "        self.pool1 = nn.MaxPool2d(2, stride = 2)\n",
    "        self.conv2 = nn.Conv2d(16, 64, 5)\n",
    "        #self.bn2 = nn.BatchNorm2d(64)\n",
    "        self.act2_c = nn.ReLU()\n",
    "        self.pool2 = nn.MaxPool2d(2, stride = 2)\n",
    "        self.conv3 = nn.Conv2d(64, 128, 5)\n",
    "        #self.bn3 = nn.BatchNorm2d(128)\n",
    "        self.act3_c = nn.ReLU()\n",
    "        self.fc1 = nn.Linear(128 * 9 * 9, 640)#self.fc1 = nn.Linear(128 * 9 * 9, 640)\n",
    "        #self.bn4 = nn.BatchNorm2d(640)\n",
    "        self.act1_f = nn.ReLU()\n",
    "        self.fc2 = nn.Linear(640, 2)         \n",
    "        \n",
    "    def forward(self, x):\n",
    "        #print(x.data.shape)\n",
    "        x = self.pool1(self.act1_c((self.conv1(x))))\n",
    "        x = self.pool2(self.act2_c((self.conv2(x))))\n",
    "        x = self.act3_c((self.conv3(x)))\n",
    "        x = x.view(-1, 128 * 9 * 9)\n",
    "        x = self.act1_f(self.fc1(x))\n",
    "        x = self.fc2(x)\n",
    "        return x"
   ]
  },
  {
   "cell_type": "markdown",
   "metadata": {},
   "source": [
    "### Model with batch normalization."
   ]
  },
  {
   "cell_type": "code",
   "execution_count": 8,
   "metadata": {
    "collapsed": true
   },
   "outputs": [],
   "source": [
    "class ModelBasic_fbn(nn.Module):\n",
    "    \n",
    "    def __init__(self):\n",
    "        \n",
    "        super().__init__()\n",
    "        self.conv1 = nn.Conv2d(6, 16, 5)\n",
    "        self.bn1 = nn.BatchNorm2d(16)\n",
    "        self.act1_c = nn.ReLU()\n",
    "        self.pool1 = nn.MaxPool2d(2, stride = 2)\n",
    "        self.conv2 = nn.Conv2d(16, 64, 5)\n",
    "        self.bn2 = nn.BatchNorm2d(64)\n",
    "        self.act2_c = nn.ReLU()\n",
    "        self.pool2 = nn.MaxPool2d(2, stride = 2)\n",
    "        self.conv3 = nn.Conv2d(64, 128, 5)\n",
    "        self.bn3 = nn.BatchNorm2d(128)\n",
    "        self.act3_c = nn.ReLU()\n",
    "        self.fc1 = nn.Linear(128 * 9 * 9, 640)#self.fc1 = nn.Linear(128 * 9 * 9, 640)\n",
    "        self.bn4 = nn.BatchNorm2d(640)\n",
    "        self.act1_f = nn.ReLU()\n",
    "        self.fc2 = nn.Linear(640, 2)         \n",
    "        \n",
    "    def forward(self, x):\n",
    "        #print(x.data.shape)\n",
    "        x = self.pool1(self.act1_c(self.bn1(self.conv1(x))))\n",
    "        x = self.pool2(self.act2_c(self.bn2(self.conv2(x))))\n",
    "        x = self.act3_c(self.bn3(self.conv3(x)))\n",
    "        x = x.view(-1, 128 * 9 * 9)\n",
    "        x = self.act1_f(self.bn4(self.fc1(x)))\n",
    "        x = self.fc2(x)\n",
    "        return x"
   ]
  },
  {
   "cell_type": "markdown",
   "metadata": {},
   "source": [
    "### Class for Scheduler"
   ]
  },
  {
   "cell_type": "code",
   "execution_count": 9,
   "metadata": {
    "collapsed": true
   },
   "outputs": [],
   "source": [
    "class AdjustVariable(object):\n",
    "    \n",
    "    def __init__(self, name, start = 0.9, stop = 0.999, num_epochs = 30):\n",
    "        self.name = name\n",
    "        self.start, self.stop = start, stop\n",
    "        self.num_epochs = num_epochs\n",
    "        self.ls = None\n",
    "\n",
    "    def __call__(self, epoch):\n",
    "        if self.ls is None:\n",
    "            self.ls = np.linspace(self.start, self.stop, self.num_epochs)\n",
    "        new_value = float(self.ls[epoch])\n",
    "        return new_value"
   ]
  },
  {
   "cell_type": "markdown",
   "metadata": {},
   "source": [
    "### Function for training CNN-Basic model"
   ]
  },
  {
   "cell_type": "code",
   "execution_count": 12,
   "metadata": {
    "collapsed": true
   },
   "outputs": [],
   "source": [
    "def train_model(model, dataloaders, dataset_sizes, criterion, optimizer, early_stop = False):    \n",
    "\n",
    "    since = time.time()\n",
    "    valid_loss_history = []\n",
    "    train_loss_history = [] \n",
    "    num_epochs = model.num_epochs\n",
    "    adjust_momentum = AdjustVariable('momentum', 0.9, 0.999, num_epochs)\n",
    "    for epoch in range(num_epochs):\n",
    "\n",
    "        print('Epoch {}/{}'.format(epoch, num_epochs - 1))\n",
    "        print('-' * 10)\n",
    "        total = 0\n",
    "        correct = 0\n",
    "        for phase in ['train', 'valid']:\n",
    "\n",
    "            if phase == 'train':\n",
    "                model.train(True)                       \n",
    "            else:\n",
    "                model.train(False)\n",
    "                \n",
    "            running_loss = 0.0\n",
    "            \n",
    "            # Iterate over data. \n",
    "            for data in dataloaders[phase]:\n",
    "                # get the inputs\n",
    "                inputs = data['pair'].view(-1,6,64,64)\n",
    "                gt = data['label'].view(-1)\n",
    "                if torch.cuda.is_available():\n",
    "                    inputs, gt = Variable(inputs).cuda(), Variable(gt).cuda()\n",
    "                else:\n",
    "                    inputs, gt = Variable(inputs), Variable(gt)\n",
    "                optimizer.zero_grad()\n",
    "                #print(inputs.data.shape)\n",
    "                outputs = model(inputs)\n",
    "                loss = criterion(outputs, gt)\n",
    "                if phase == 'train':\n",
    "                    loss.backward()\n",
    "                    optimizer.step()\n",
    "                \n",
    "                # statistics\n",
    "                running_loss += loss.data[0]\n",
    "\n",
    "            #epoch_loss = running_loss / (dataset_sizes[phase]*4)\n",
    "            if phase == 'train':\n",
    "                epoch_loss = running_loss / len(dataloaders[phase])\n",
    "                train_loss_history.append(epoch_loss)\n",
    "                \n",
    "            else:\n",
    "                #outputs = model(inputs)\n",
    "                _, preds = torch.max(outputs.data, 1)\n",
    "                total += gt.data.size(0)\n",
    "                correct += (preds == gt.data).sum()\n",
    "                epoch_loss = running_loss / len(dataloaders[phase])\n",
    "                valid_loss_history.append(epoch_loss)\n",
    "            print('{} Loss: {:.8f}'.format(\n",
    "                    phase, epoch_loss))\n",
    "            if phase == 'valid':\n",
    "                print('Train Loss / Valid Loss: {:.6f}'.format(train_loss_history[-1] / valid_loss_history[-1]))\n",
    "                print('Accuracy on validation set: %d %%' % (100 * correct / total))\n",
    "                if early_stop:\n",
    "                    EarlyStopping(patience = 200)\n",
    "    loss_history = (train_loss_history, valid_loss_history)\n",
    "    #model.register_buffer('loss_history', torch.Tensor(loss_history))\n",
    "    time_elapsed = time.time() - since\n",
    "    print('Training complete in {:.0f}m {:.0f}s'.format(\n",
    "                time_elapsed // 60, time_elapsed % 60))\n",
    "    #torch.save(model.state_dict(), save_file)\n",
    "    #torch.save(loss_history, save_file + '_loss_history')\n",
    "    return model"
   ]
  },
  {
   "cell_type": "markdown",
   "metadata": {},
   "source": [
    "### Initializing the CNN-Basic model parameters."
   ]
  },
  {
   "cell_type": "markdown",
   "metadata": {},
   "source": [
    "##### Weights are initialized using Gaussian distribution with zero mean and a standard deviation of 0.01. The biases are initialized to zeros."
   ]
  },
  {
   "cell_type": "code",
   "execution_count": 13,
   "metadata": {
    "collapsed": true
   },
   "outputs": [],
   "source": [
    "def init_params(model):\n",
    "    \n",
    "    for m in model.children():\n",
    "        for name, param in m.named_parameters():\n",
    "            if name in ['weight']:\n",
    "                nn.init.normal(param, 0, 0.01)\n",
    "            if name in ['bias']:\n",
    "                nn.init.constant(param, 0)"
   ]
  },
  {
   "cell_type": "markdown",
   "metadata": {},
   "source": [
    "# Main function"
   ]
  },
  {
   "cell_type": "markdown",
   "metadata": {},
   "source": [
    "#### The CNN-Basic model is trained using the standard 5-fold cross validation strategy. Cross entropy loss is used and Adam's optimizer is used. Learning rate is set to  "
   ]
  },
  {
   "cell_type": "code",
   "execution_count": 52,
   "metadata": {
    "collapsed": false
   },
   "outputs": [
    {
     "name": "stdout",
     "output_type": "stream",
     "text": [
      "{'valid': 20, 'train': 380}\n",
      "Epoch 0/2\n",
      "----------\n",
      "train Loss: 0.69476653\n",
      "valid Loss: 0.68252760\n",
      "Train Loss / Valid Loss: 1.017932\n",
      "Accuracy on validation set: 65 %\n",
      "Epoch 1/2\n",
      "----------\n",
      "train Loss: 0.67956342\n",
      "valid Loss: 0.69228280\n",
      "Train Loss / Valid Loss: 0.981627\n",
      "Accuracy on validation set: 50 %\n",
      "Epoch 2/2\n",
      "----------\n",
      "train Loss: 0.59753096\n",
      "valid Loss: 0.96808827\n",
      "Train Loss / Valid Loss: 0.617228\n",
      "Accuracy on validation set: 63 %\n",
      "Training complete in 0m 27s\n",
      "Accuracy of the network on the test images: 53 %\n",
      "{'valid': 20, 'train': 380}\n",
      "Epoch 0/2\n",
      "----------\n"
     ]
    },
    {
     "name": "stderr",
     "output_type": "stream",
     "text": [
      "Process Process-5509:\n",
      "Process Process-5506:\n",
      "Process Process-5510:\n",
      "Process Process-5511:\n",
      "Process Process-5512:\n",
      "Traceback (most recent call last):\n",
      "Traceback (most recent call last):\n",
      "Process Process-5505:\n",
      "  File \"/usr/local/anaconda3/lib/python3.5/multiprocessing/process.py\", line 252, in _bootstrap\n",
      "    self.run()\n",
      "Traceback (most recent call last):\n",
      "  File \"/usr/local/anaconda3/lib/python3.5/multiprocessing/process.py\", line 93, in run\n",
      "    self._target(*self._args, **self._kwargs)\n",
      "  File \"/usr/local/anaconda3/lib/python3.5/multiprocessing/process.py\", line 252, in _bootstrap\n",
      "    self.run()\n",
      "  File \"/usr/local/anaconda3/lib/python3.5/multiprocessing/process.py\", line 252, in _bootstrap\n",
      "    self.run()\n",
      "Process Process-5507:\n",
      "  File \"/usr/local/anaconda3/lib/python3.5/site-packages/torch/utils/data/dataloader.py\", line 34, in _worker_loop\n",
      "    r = index_queue.get()\n",
      "Traceback (most recent call last):\n",
      "  File \"/usr/local/anaconda3/lib/python3.5/multiprocessing/process.py\", line 93, in run\n",
      "    self._target(*self._args, **self._kwargs)\n",
      "Traceback (most recent call last):\n",
      "  File \"/usr/local/anaconda3/lib/python3.5/multiprocessing/process.py\", line 252, in _bootstrap\n",
      "    self.run()\n",
      "  File \"/usr/local/anaconda3/lib/python3.5/multiprocessing/queues.py\", line 334, in get\n",
      "    with self._rlock:\n",
      "  File \"/usr/local/anaconda3/lib/python3.5/multiprocessing/process.py\", line 93, in run\n",
      "    self._target(*self._args, **self._kwargs)\n",
      "  File \"/usr/local/anaconda3/lib/python3.5/site-packages/torch/utils/data/dataloader.py\", line 34, in _worker_loop\n",
      "    r = index_queue.get()\n",
      "  File \"/usr/local/anaconda3/lib/python3.5/site-packages/torch/utils/data/dataloader.py\", line 34, in _worker_loop\n",
      "    r = index_queue.get()\n",
      "  File \"/usr/local/anaconda3/lib/python3.5/multiprocessing/synchronize.py\", line 96, in __enter__\n",
      "    return self._semlock.__enter__()\n",
      "  File \"/usr/local/anaconda3/lib/python3.5/multiprocessing/process.py\", line 252, in _bootstrap\n",
      "    self.run()\n",
      "  File \"/usr/local/anaconda3/lib/python3.5/multiprocessing/process.py\", line 93, in run\n",
      "    self._target(*self._args, **self._kwargs)\n",
      "  File \"/usr/local/anaconda3/lib/python3.5/site-packages/torch/utils/data/dataloader.py\", line 34, in _worker_loop\n",
      "    r = index_queue.get()\n",
      "Process Process-5508:\n",
      "Traceback (most recent call last):\n",
      "Traceback (most recent call last):\n",
      "  File \"/usr/local/anaconda3/lib/python3.5/multiprocessing/process.py\", line 93, in run\n",
      "    self._target(*self._args, **self._kwargs)\n",
      "  File \"/usr/local/anaconda3/lib/python3.5/multiprocessing/queues.py\", line 334, in get\n",
      "    with self._rlock:\n",
      "  File \"/usr/local/anaconda3/lib/python3.5/multiprocessing/queues.py\", line 334, in get\n",
      "    with self._rlock:\n",
      "Traceback (most recent call last):\n",
      "  File \"/usr/local/anaconda3/lib/python3.5/multiprocessing/process.py\", line 252, in _bootstrap\n",
      "    self.run()\n",
      "  File \"/usr/local/anaconda3/lib/python3.5/multiprocessing/queues.py\", line 334, in get\n",
      "    with self._rlock:\n",
      "  File \"/usr/local/anaconda3/lib/python3.5/multiprocessing/synchronize.py\", line 96, in __enter__\n",
      "    return self._semlock.__enter__()\n",
      "  File \"/usr/local/anaconda3/lib/python3.5/multiprocessing/synchronize.py\", line 96, in __enter__\n",
      "    return self._semlock.__enter__()\n",
      "KeyboardInterrupt\n",
      "KeyboardInterrupt\n",
      "  File \"/usr/local/anaconda3/lib/python3.5/multiprocessing/process.py\", line 252, in _bootstrap\n",
      "    self.run()\n",
      "KeyboardInterrupt\n",
      "  File \"/usr/local/anaconda3/lib/python3.5/multiprocessing/synchronize.py\", line 96, in __enter__\n",
      "    return self._semlock.__enter__()\n",
      "KeyboardInterrupt\n",
      "  File \"/usr/local/anaconda3/lib/python3.5/multiprocessing/process.py\", line 93, in run\n",
      "    self._target(*self._args, **self._kwargs)\n",
      "  File \"/usr/local/anaconda3/lib/python3.5/site-packages/torch/utils/data/dataloader.py\", line 34, in _worker_loop\n",
      "    r = index_queue.get()\n",
      "  File \"/usr/local/anaconda3/lib/python3.5/site-packages/torch/utils/data/dataloader.py\", line 34, in _worker_loop\n",
      "    r = index_queue.get()\n",
      "  File \"/usr/local/anaconda3/lib/python3.5/multiprocessing/queues.py\", line 334, in get\n",
      "    with self._rlock:\n",
      "  File \"/usr/local/anaconda3/lib/python3.5/multiprocessing/process.py\", line 93, in run\n",
      "    self._target(*self._args, **self._kwargs)\n",
      "  File \"/usr/local/anaconda3/lib/python3.5/multiprocessing/process.py\", line 252, in _bootstrap\n",
      "    self.run()\n",
      "  File \"/usr/local/anaconda3/lib/python3.5/multiprocessing/synchronize.py\", line 96, in __enter__\n",
      "    return self._semlock.__enter__()\n",
      "KeyboardInterrupt\n",
      "  File \"/usr/local/anaconda3/lib/python3.5/multiprocessing/queues.py\", line 334, in get\n",
      "    with self._rlock:\n",
      "  File \"/usr/local/anaconda3/lib/python3.5/site-packages/torch/utils/data/dataloader.py\", line 34, in _worker_loop\n",
      "    r = index_queue.get()\n",
      "  File \"/usr/local/anaconda3/lib/python3.5/multiprocessing/process.py\", line 93, in run\n",
      "    self._target(*self._args, **self._kwargs)\n",
      "  File \"/usr/local/anaconda3/lib/python3.5/multiprocessing/synchronize.py\", line 96, in __enter__\n",
      "    return self._semlock.__enter__()\n",
      "KeyboardInterrupt\n",
      "  File \"/usr/local/anaconda3/lib/python3.5/multiprocessing/queues.py\", line 335, in get\n",
      "    res = self._reader.recv_bytes()\n",
      "  File \"/usr/local/anaconda3/lib/python3.5/site-packages/torch/utils/data/dataloader.py\", line 34, in _worker_loop\n",
      "    r = index_queue.get()\n",
      "  File \"/usr/local/anaconda3/lib/python3.5/multiprocessing/queues.py\", line 334, in get\n",
      "    with self._rlock:\n",
      "  File \"/usr/local/anaconda3/lib/python3.5/multiprocessing/connection.py\", line 216, in recv_bytes\n",
      "    buf = self._recv_bytes(maxlength)\n",
      "  File \"/usr/local/anaconda3/lib/python3.5/multiprocessing/synchronize.py\", line 96, in __enter__\n",
      "    return self._semlock.__enter__()\n",
      "  File \"/usr/local/anaconda3/lib/python3.5/multiprocessing/connection.py\", line 407, in _recv_bytes\n",
      "    buf = self._recv(4)\n",
      "KeyboardInterrupt\n",
      "  File \"/usr/local/anaconda3/lib/python3.5/multiprocessing/connection.py\", line 379, in _recv\n",
      "    chunk = read(handle, remaining)\n",
      "KeyboardInterrupt\n"
     ]
    },
    {
     "ename": "KeyboardInterrupt",
     "evalue": "",
     "output_type": "error",
     "traceback": [
      "\u001b[0;31m---------------------------------------------------------------------------\u001b[0m",
      "\u001b[0;31mKeyboardInterrupt\u001b[0m                         Traceback (most recent call last)",
      "\u001b[0;32m<ipython-input-52-6768fe7411e1>\u001b[0m in \u001b[0;36m<module>\u001b[0;34m()\u001b[0m\n\u001b[1;32m     14\u001b[0m     \u001b[0;32mif\u001b[0m \u001b[0mtorch\u001b[0m\u001b[0;34m.\u001b[0m\u001b[0mcuda\u001b[0m\u001b[0;34m.\u001b[0m\u001b[0mis_available\u001b[0m\u001b[0;34m(\u001b[0m\u001b[0;34m)\u001b[0m\u001b[0;34m:\u001b[0m\u001b[0;34m\u001b[0m\u001b[0m\n\u001b[1;32m     15\u001b[0m         \u001b[0mmodel\u001b[0m\u001b[0;34m.\u001b[0m\u001b[0mcuda\u001b[0m\u001b[0;34m(\u001b[0m\u001b[0;34m)\u001b[0m\u001b[0;34m\u001b[0m\u001b[0m\n\u001b[0;32m---> 16\u001b[0;31m     \u001b[0mmodel\u001b[0m \u001b[0;34m=\u001b[0m \u001b[0mtrain_model\u001b[0m\u001b[0;34m(\u001b[0m\u001b[0mmodel\u001b[0m\u001b[0;34m,\u001b[0m \u001b[0mdataloaders\u001b[0m\u001b[0;34m,\u001b[0m \u001b[0mdataset_sizes\u001b[0m\u001b[0;34m,\u001b[0m \u001b[0mcriterion\u001b[0m\u001b[0;34m,\u001b[0m \u001b[0moptimizer\u001b[0m\u001b[0;34m,\u001b[0m \u001b[0mearly_stop\u001b[0m \u001b[0;34m=\u001b[0m \u001b[0;32mFalse\u001b[0m\u001b[0;34m)\u001b[0m\u001b[0;34m\u001b[0m\u001b[0m\n\u001b[0m\u001b[1;32m     17\u001b[0m     \u001b[0mcorrect\u001b[0m \u001b[0;34m=\u001b[0m \u001b[0;36m0\u001b[0m\u001b[0;34m\u001b[0m\u001b[0m\n\u001b[1;32m     18\u001b[0m     \u001b[0mtotal\u001b[0m \u001b[0;34m=\u001b[0m \u001b[0;36m0\u001b[0m\u001b[0;34m\u001b[0m\u001b[0m\n",
      "\u001b[0;32m<ipython-input-12-87b44980d052>\u001b[0m in \u001b[0;36mtrain_model\u001b[0;34m(model, dataloaders, dataset_sizes, criterion, optimizer, early_stop)\u001b[0m\n\u001b[1;32m     35\u001b[0m                 \u001b[0mloss\u001b[0m \u001b[0;34m=\u001b[0m \u001b[0mcriterion\u001b[0m\u001b[0;34m(\u001b[0m\u001b[0moutputs\u001b[0m\u001b[0;34m,\u001b[0m \u001b[0mgt\u001b[0m\u001b[0;34m)\u001b[0m\u001b[0;34m\u001b[0m\u001b[0m\n\u001b[1;32m     36\u001b[0m                 \u001b[0;32mif\u001b[0m \u001b[0mphase\u001b[0m \u001b[0;34m==\u001b[0m \u001b[0;34m'train'\u001b[0m\u001b[0;34m:\u001b[0m\u001b[0;34m\u001b[0m\u001b[0m\n\u001b[0;32m---> 37\u001b[0;31m                     \u001b[0mloss\u001b[0m\u001b[0;34m.\u001b[0m\u001b[0mbackward\u001b[0m\u001b[0;34m(\u001b[0m\u001b[0;34m)\u001b[0m\u001b[0;34m\u001b[0m\u001b[0m\n\u001b[0m\u001b[1;32m     38\u001b[0m                     \u001b[0moptimizer\u001b[0m\u001b[0;34m.\u001b[0m\u001b[0mstep\u001b[0m\u001b[0;34m(\u001b[0m\u001b[0;34m)\u001b[0m\u001b[0;34m\u001b[0m\u001b[0m\n\u001b[1;32m     39\u001b[0m \u001b[0;34m\u001b[0m\u001b[0m\n",
      "\u001b[0;32m/usr/local/anaconda3/lib/python3.5/site-packages/torch/autograd/variable.py\u001b[0m in \u001b[0;36mbackward\u001b[0;34m(self, gradient, retain_graph, create_graph, retain_variables)\u001b[0m\n\u001b[1;32m    154\u001b[0m                 \u001b[0mVariable\u001b[0m\u001b[0;34m.\u001b[0m\u001b[0;34m\u001b[0m\u001b[0m\n\u001b[1;32m    155\u001b[0m         \"\"\"\n\u001b[0;32m--> 156\u001b[0;31m         \u001b[0mtorch\u001b[0m\u001b[0;34m.\u001b[0m\u001b[0mautograd\u001b[0m\u001b[0;34m.\u001b[0m\u001b[0mbackward\u001b[0m\u001b[0;34m(\u001b[0m\u001b[0mself\u001b[0m\u001b[0;34m,\u001b[0m \u001b[0mgradient\u001b[0m\u001b[0;34m,\u001b[0m \u001b[0mretain_graph\u001b[0m\u001b[0;34m,\u001b[0m \u001b[0mcreate_graph\u001b[0m\u001b[0;34m,\u001b[0m \u001b[0mretain_variables\u001b[0m\u001b[0;34m)\u001b[0m\u001b[0;34m\u001b[0m\u001b[0m\n\u001b[0m\u001b[1;32m    157\u001b[0m \u001b[0;34m\u001b[0m\u001b[0m\n\u001b[1;32m    158\u001b[0m     \u001b[0;32mdef\u001b[0m \u001b[0mregister_hook\u001b[0m\u001b[0;34m(\u001b[0m\u001b[0mself\u001b[0m\u001b[0;34m,\u001b[0m \u001b[0mhook\u001b[0m\u001b[0;34m)\u001b[0m\u001b[0;34m:\u001b[0m\u001b[0;34m\u001b[0m\u001b[0m\n",
      "\u001b[0;32m/usr/local/anaconda3/lib/python3.5/site-packages/torch/autograd/__init__.py\u001b[0m in \u001b[0;36mbackward\u001b[0;34m(variables, grad_variables, retain_graph, create_graph, retain_variables)\u001b[0m\n\u001b[1;32m     96\u001b[0m \u001b[0;34m\u001b[0m\u001b[0m\n\u001b[1;32m     97\u001b[0m     Variable._execution_engine.run_backward(\n\u001b[0;32m---> 98\u001b[0;31m         variables, grad_variables, retain_graph)\n\u001b[0m\u001b[1;32m     99\u001b[0m \u001b[0;34m\u001b[0m\u001b[0m\n\u001b[1;32m    100\u001b[0m \u001b[0;34m\u001b[0m\u001b[0m\n",
      "\u001b[0;31mKeyboardInterrupt\u001b[0m: "
     ]
    }
   ],
   "source": [
    "data_transforms = {\n",
    "    'train':transforms.Compose([transforms.ToTensor()]),\n",
    "    'val': transforms.Compose([transforms.ToTensor()]),\n",
    "    'test': transforms.Compose([transforms.ToTensor()])\n",
    "}\n",
    "for fold in range(1,6):\n",
    "    dataloaders, dataset_sizes = load(400,'fs',data_transforms,True,fold,test_split=0.05,batch_size=32)\n",
    "    model = ModelBasic_fbn()\n",
    "    init_params(model)\n",
    "    criterion = torch.nn.CrossEntropyLoss()\n",
    "    optimizer = torch.optim.Adam(model.parameters(), lr=0.01, weight_decay=0.005)\n",
    "    #exp_lr_scheduler = lr_scheduler.StepLR(optimizer, step_size=30, gamma=0.95)\n",
    "    model.num_epochs = 3\n",
    "    if torch.cuda.is_available():\n",
    "        model.cuda()\n",
    "    model = train_model(model, dataloaders, dataset_sizes, criterion, optimizer, early_stop = False)\n",
    "    correct = 0\n",
    "    total = 0\n",
    "    x_test = KinShipDataSet('fs', data_transform, test=True,fold=fold,aug=False)\n",
    "    test_loader = DataLoader(x_test,batch_size=32)\n",
    "    for data in test_loader:\n",
    "        inputs = data['pair'].view(-1,6,64,64)\n",
    "        gt = data['label'].view(-1)\n",
    "        if torch.cuda.is_available():\n",
    "            inputs = Variable(inputs.cuda())\n",
    "            gt = gt.cuda()\n",
    "        else:\n",
    "            inputs = Variable(inputs)\n",
    "        #print(gt.shape)\n",
    "        outputs = model(inputs)\n",
    "        _, preds = torch.max(outputs.data, 1)\n",
    "        \n",
    "        total += gt.size(0)\n",
    "        correct += (preds == gt).sum()\n",
    "\n",
    "    print('Accuracy of the network on the test images: %d %%' % (100 * correct / total))"
   ]
  },
  {
   "cell_type": "code",
   "execution_count": null,
   "metadata": {
    "collapsed": true
   },
   "outputs": [],
   "source": []
  }
 ],
 "metadata": {
  "kernelspec": {
   "display_name": "Python [Root]",
   "language": "python",
   "name": "Python [Root]"
  },
  "language_info": {
   "codemirror_mode": {
    "name": "ipython",
    "version": 3
   },
   "file_extension": ".py",
   "mimetype": "text/x-python",
   "name": "python",
   "nbconvert_exporter": "python",
   "pygments_lexer": "ipython3",
   "version": "3.5.4"
  }
 },
 "nbformat": 4,
 "nbformat_minor": 2
}
